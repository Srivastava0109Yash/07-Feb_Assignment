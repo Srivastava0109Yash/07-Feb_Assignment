{
 "cells": [
  {
   "cell_type": "markdown",
   "id": "4feb3521",
   "metadata": {},
   "source": [
    "### Q1. You are writing code for a company. The requirement of the company is that you create a python  function that will check whether the password entered by the user is correct or not. The function should  take the password as input and return the string “Valid Password” if the entered password follows the  below-given password guidelines else it should return “Invalid Password”. \n",
    "Note: 1. The Password should contain at least two uppercase letters and at least two lowercase letters. 2. The Password should contain at least a number and three special characters. \n",
    "3. The length of the password should be 10 characters long\n"
   ]
  },
  {
   "cell_type": "code",
   "execution_count": 15,
   "id": "bda1642a",
   "metadata": {},
   "outputs": [
    {
     "name": "stdout",
     "output_type": "stream",
     "text": [
      "Valid Password\n",
      "Valid Password\n",
      "Invalid Password\n"
     ]
    }
   ],
   "source": [
    "def check_password(password):\n",
    "    \n",
    "    # check length of password is 10\n",
    "    if len(password)!=10:\n",
    "        return 'Invalid Password'\n",
    "    \n",
    "    # check for at least 2 uppercase letter\n",
    "    upper_count=0\n",
    "    for char in password:\n",
    "        if char.isupper():\n",
    "            upper_count+=1\n",
    "                    \n",
    "    if upper_count <2:\n",
    "        return 'Invalid Password'\n",
    "    \n",
    "    # check for at least 2 lowercase letter\n",
    "    lower_count=0\n",
    "    for char in password:\n",
    "        if char.islower():\n",
    "            lower_count+=1\n",
    "            \n",
    "    if lower_count<2:\n",
    "        return 'Invalid Password'\n",
    "    \n",
    "    # check for at least 1 number\n",
    "    has_number = False\n",
    "    for char in password:\n",
    "        if char.isdigit():\n",
    "            has_number = True\n",
    "            break\n",
    "    \n",
    "    if not has_number:\n",
    "        return \"Invalid Password\"\n",
    "    \n",
    "    # Check for at least 3 special characters\n",
    "    special_char_count=0\n",
    "    for char in password:\n",
    "        if char.isalnum():\n",
    "            special_char_count+=1\n",
    "    \n",
    "    if special_char_count<3:\n",
    "        return 'Invalid Password'\n",
    "    \n",
    "    return 'Valid Password'\n",
    "        \n",
    "    \n",
    "a='YaSh010###'\n",
    "b='Aa#!1Bb#2C'\n",
    "c=\"qesdre435o9\"\n",
    "print(check_password(a)) \n",
    "print(check_password(b))\n",
    "print(check_password(c))"
   ]
  },
  {
   "cell_type": "markdown",
   "id": "8b28195d",
   "metadata": {},
   "source": [
    "### Q2. Solve the below-given questions using at least one of the following:\n",
    "1. Lambda function\n",
    "2. Filter function\n",
    "3. Zap function\n",
    "4. List Comprehension\n"
   ]
  },
  {
   "cell_type": "markdown",
   "id": "e610c88d",
   "metadata": {},
   "source": [
    "### Check if the string starts with a particular letter"
   ]
  },
  {
   "cell_type": "code",
   "execution_count": 22,
   "id": "d4f0aa3e",
   "metadata": {},
   "outputs": [
    {
     "name": "stdout",
     "output_type": "stream",
     "text": [
      "Enter the string:Yash\n",
      "Enter the particular letter:Y\n",
      "True\n"
     ]
    }
   ],
   "source": [
    "#lambda function\n",
    "\n",
    "x=input(\"Enter the string:\")\n",
    "s=input(\"Enter the particular letter:\")\n",
    "\n",
    "res=lambda string, letter: True if string[0]==letter else False\n",
    "print(res(x,s))"
   ]
  },
  {
   "cell_type": "code",
   "execution_count": 21,
   "id": "407cd57c",
   "metadata": {},
   "outputs": [
    {
     "name": "stdout",
     "output_type": "stream",
     "text": [
      "Enter the string:Yash \n",
      "Enter the particular letter:Y\n",
      "True\n"
     ]
    }
   ],
   "source": [
    "# List Comprehension function:\n",
    "x=input(\"Enter the string:\")\n",
    "s=input(\"Enter the particular letter:\")\n",
    "\n",
    "res=[True if x[0]==s else False]\n",
    "print(bool(res))\n"
   ]
  },
  {
   "cell_type": "markdown",
   "id": "557da070",
   "metadata": {},
   "source": [
    "### Check if the string is numeric:"
   ]
  },
  {
   "cell_type": "code",
   "execution_count": 28,
   "id": "8ab848af",
   "metadata": {},
   "outputs": [
    {
     "name": "stdout",
     "output_type": "stream",
     "text": [
      "Enter the string of numbers:123\n",
      "True\n"
     ]
    }
   ],
   "source": [
    "#lambda function\n",
    "\n",
    "x=input(\"Enter the string of numbers:\")\n",
    "\n",
    "\n",
    "res=lambda y: True if x.isnumeric() else False\n",
    "print(res(x))"
   ]
  },
  {
   "cell_type": "code",
   "execution_count": 39,
   "id": "bcdfde54",
   "metadata": {},
   "outputs": [
    {
     "name": "stdout",
     "output_type": "stream",
     "text": [
      "Enter the string of numbers:1234\n",
      "True\n"
     ]
    }
   ],
   "source": [
    "#List Comprehension\n",
    "\n",
    "x=input(\"Enter the string of numbers:\")\n",
    "\n",
    "print(bool([True if x.isnumeric() else False]))\n"
   ]
  },
  {
   "cell_type": "markdown",
   "id": "8df57811",
   "metadata": {},
   "source": [
    "### Sort a list of tuples having fruit names and their quantity. [(\"mango\",99),(\"orange\",80), (\"grapes\", 1000)"
   ]
  },
  {
   "cell_type": "code",
   "execution_count": 44,
   "id": "6bd8c722",
   "metadata": {},
   "outputs": [
    {
     "name": "stdout",
     "output_type": "stream",
     "text": [
      "[('orange', 80), ('mango', 99), ('grapes', 1000)]\n"
     ]
    }
   ],
   "source": [
    "# lambda function\n",
    "fruits = [(\"mango\", 99), (\"orange\", 80), (\"grapes\", 1000)]\n",
    "\n",
    "sorted_fruits = sorted(fruits, key=lambda x: x[1])\n",
    "\n",
    "print(sorted_fruits)"
   ]
  },
  {
   "cell_type": "code",
   "execution_count": 55,
   "id": "3fcc4bbd",
   "metadata": {},
   "outputs": [
    {
     "name": "stdout",
     "output_type": "stream",
     "text": [
      "[('orange', 80), ('mango', 99), ('grapes', 1000)]\n"
     ]
    }
   ],
   "source": [
    "# list comprehension:\n",
    "\n",
    "fruits = [(\"mango\", 99), (\"orange\", 80), (\"grapes\", 1000)]\n",
    "\n",
    "fruits[0][1]\n",
    "sorted_fruits1 =[fruit for fruit in sorted(fruits, key=lambda x: x[1])] \n",
    "print(sorted_fruits1)"
   ]
  },
  {
   "cell_type": "markdown",
   "id": "cb56af6a",
   "metadata": {},
   "source": [
    "### Find the squares of numbers from 1 to 10"
   ]
  },
  {
   "cell_type": "code",
   "execution_count": 68,
   "id": "7cfd17d2",
   "metadata": {},
   "outputs": [
    {
     "data": {
      "text/plain": [
       "[1, 4, 9, 16, 25, 36, 49, 64, 81, 100]"
      ]
     },
     "execution_count": 68,
     "metadata": {},
     "output_type": "execute_result"
    }
   ],
   "source": [
    "# lambda and map\n",
    "\n",
    "squared_numbers = list(map(lambda x: x**2, range(1, 11)))\n",
    "squared_numbers"
   ]
  },
  {
   "cell_type": "code",
   "execution_count": 70,
   "id": "25246ec3",
   "metadata": {},
   "outputs": [
    {
     "name": "stdout",
     "output_type": "stream",
     "text": [
      "[1, 4, 9, 16, 25, 36, 49, 64, 81, 100]\n"
     ]
    }
   ],
   "source": [
    "# list coprehension\n",
    "squared_numbers1=[ x**2 for x in range(1,11)]\n",
    "print(squared_numbers1)"
   ]
  },
  {
   "cell_type": "markdown",
   "id": "ec13bb44",
   "metadata": {},
   "source": [
    "### Find the cube root of numbers from 1 to 10"
   ]
  },
  {
   "cell_type": "code",
   "execution_count": 72,
   "id": "5530f174",
   "metadata": {},
   "outputs": [
    {
     "data": {
      "text/plain": [
       "[1, 8, 27, 64, 125, 216, 343, 512, 729, 1000]"
      ]
     },
     "execution_count": 72,
     "metadata": {},
     "output_type": "execute_result"
    }
   ],
   "source": [
    "# lambda and map\n",
    "\n",
    "cubed_num=list(map(lambda x: x**3, range(1, 11)))\n",
    "cubed_num"
   ]
  },
  {
   "cell_type": "code",
   "execution_count": 73,
   "id": "0e89a892",
   "metadata": {},
   "outputs": [
    {
     "name": "stdout",
     "output_type": "stream",
     "text": [
      "[1, 8, 27, 64, 125, 216, 343, 512, 729, 1000]\n"
     ]
    }
   ],
   "source": [
    "# list coprehension\n",
    "squared_numbers1=[ x**3 for x in range(1,11)]\n",
    "print(squared_numbers1)"
   ]
  },
  {
   "cell_type": "markdown",
   "id": "81953dff",
   "metadata": {},
   "source": [
    "### Check if a given number is even"
   ]
  },
  {
   "cell_type": "code",
   "execution_count": 79,
   "id": "bb9f620e",
   "metadata": {},
   "outputs": [
    {
     "name": "stdout",
     "output_type": "stream",
     "text": [
      "15\n",
      "No\n",
      "12--> Yes\n"
     ]
    }
   ],
   "source": [
    "# lambda:\n",
    "x=int(input())\n",
    "is_even= lambda x: 'Yes' if x%2==0 else 'No'\n",
    "print(is_even(x))\n",
    "print('12-->',is_even(12))"
   ]
  },
  {
   "cell_type": "code",
   "execution_count": 84,
   "id": "317b0365",
   "metadata": {},
   "outputs": [
    {
     "name": "stdout",
     "output_type": "stream",
     "text": [
      "12\n",
      "Yes\n"
     ]
    }
   ],
   "source": [
    "# list comprehension:\n",
    "\n",
    "x=int(input())\n",
    "\n",
    "is_even1=['Yes' if x%2==0 else 'No']\n",
    "print(''.join(map(str,is_even1))) # convert list to string\n"
   ]
  },
  {
   "cell_type": "markdown",
   "id": "1968faa3",
   "metadata": {},
   "source": [
    "### Filter odd numbers from the given list.\n",
    "[1,2,3,4,5,6,7,8,9,10]"
   ]
  },
  {
   "cell_type": "code",
   "execution_count": 89,
   "id": "33a4de2a",
   "metadata": {},
   "outputs": [
    {
     "name": "stdout",
     "output_type": "stream",
     "text": [
      "[1, 3, 5, 7, 9]\n"
     ]
    }
   ],
   "source": [
    "#lambda ,filter\n",
    "\n",
    "numbers = [1, 2, 3, 4, 5, 6, 7, 8, 9, 10]\n",
    "odd_numbers = (filter(lambda x: x % 2 != 0, numbers))\n",
    "print(list(odd_numbers))"
   ]
  },
  {
   "cell_type": "markdown",
   "id": "ea404b9d",
   "metadata": {},
   "source": [
    "### Sort a list of integers into positive and negative integers lists.\n",
    "[1,2,3,4,5,6,-1,-2,-3,-4,-5,0]"
   ]
  },
  {
   "cell_type": "code",
   "execution_count": 90,
   "id": "29a17dfe",
   "metadata": {},
   "outputs": [
    {
     "name": "stdout",
     "output_type": "stream",
     "text": [
      "Positive integers: [1, 2, 3, 4, 5, 6]\n",
      "Negative integers: [-1, -2, -3, -4, -5]\n"
     ]
    }
   ],
   "source": [
    "# list comprehension\n",
    "input_list = [1,2,3,4,5,6,-1,-2,-3,-4,-5,0]\n",
    "positive_list = [x for x in input_list if x > 0]\n",
    "negative_list = [x for x in input_list if x < 0]\n",
    "\n",
    "print(\"Positive integers:\", positive_list)\n",
    "print(\"Negative integers:\", negative_list)"
   ]
  },
  {
   "cell_type": "code",
   "execution_count": 93,
   "id": "46bdc74c",
   "metadata": {},
   "outputs": [
    {
     "name": "stdout",
     "output_type": "stream",
     "text": [
      "Positive integers: [1, 2, 3, 4, 5, 6]\n",
      "Negative integers: [-1, -2, -3, -4, -5]\n"
     ]
    }
   ],
   "source": [
    "# filter and lambda\n",
    "input_list = [1,2,3,4,5,6,-1,-2,-3,-4,-5,0]\n",
    "\n",
    "positive= list(filter(lambda x: x>0,input_list))\n",
    "negative= list(filter(lambda x: x<0,input_list))\n",
    "\n",
    "print(\"Positive integers:\", positive)\n",
    "print(\"Negative integers:\", negative)"
   ]
  },
  {
   "cell_type": "code",
   "execution_count": null,
   "id": "de71af1f",
   "metadata": {},
   "outputs": [],
   "source": []
  }
 ],
 "metadata": {
  "kernelspec": {
   "display_name": "Python 3 (ipykernel)",
   "language": "python",
   "name": "python3"
  },
  "language_info": {
   "codemirror_mode": {
    "name": "ipython",
    "version": 3
   },
   "file_extension": ".py",
   "mimetype": "text/x-python",
   "name": "python",
   "nbconvert_exporter": "python",
   "pygments_lexer": "ipython3",
   "version": "3.9.7"
  }
 },
 "nbformat": 4,
 "nbformat_minor": 5
}
